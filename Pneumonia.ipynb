{
 "cells": [
  {
   "cell_type": "code",
   "execution_count": 85,
   "metadata": {},
   "outputs": [],
   "source": [
    "import tensorflow as tf\n",
    "import pandas as pd\n",
    "import matplotlib.pyplot as plt\n",
    "import os\n",
    "import cv2 as cv\n",
    "import random\n",
    "from tensorflow.keras.models import Sequential\n",
    "from tensorflow.keras.layers import Dense, Flatten, Dropout, Conv2D, Activation, MaxPooling2D \n",
    "from tensorflow.keras.callbacks import TensorBoard\n",
    "from tensorflow.keras.utils import normalize\n",
    "import time"
   ]
  },
  {
   "cell_type": "code",
   "execution_count": 86,
   "metadata": {},
   "outputs": [],
   "source": [
    "DATADIR = \"C:/Users/CALDEN MICHAEL/Desktop/Pure Tensorflow/chest_xray/train\"\n",
    "CATEGORIES = [\"NORMAL\", \"PNEUMONIA\"]\n",
    "\n",
    "IMG_SIZE = 80\n",
    "\n",
    "training_data = []\n",
    "\n",
    "def create_training_data():\n",
    "    for category in CATEGORIES:\n",
    "        PATH = os.path.join(DATADIR, category)\n",
    "        category_index = CATEGORIES.index(category)\n",
    "        for img in os.listdir(PATH):\n",
    "            try:\n",
    "                img_array = cv.imread(os.path.join(PATH, img))\n",
    "                img_array = cv.resize(img_array, (IMG_SIZE, IMG_SIZE))\n",
    "                training_data.append([img_array, category_index])\n",
    "            except Exception as e:\n",
    "                pass"
   ]
  },
  {
   "cell_type": "code",
   "execution_count": 87,
   "metadata": {},
   "outputs": [],
   "source": [
    "create_training_data()"
   ]
  },
  {
   "cell_type": "code",
   "execution_count": 89,
   "metadata": {},
   "outputs": [],
   "source": [
    "random.shuffle(training_data)"
   ]
  },
  {
   "cell_type": "code",
   "execution_count": 90,
   "metadata": {},
   "outputs": [],
   "source": [
    "X_train = []\n",
    "Y_train = []\n",
    "for feature, label in training_data:\n",
    "    X_train.append(feature)\n",
    "    Y_train.append(label)"
   ]
  },
  {
   "cell_type": "code",
   "execution_count": 91,
   "metadata": {},
   "outputs": [],
   "source": [
    "X_train = np.array(X_train)\n",
    "Y_train = np.array(Y_train)"
   ]
  },
  {
   "cell_type": "code",
   "execution_count": 92,
   "metadata": {},
   "outputs": [],
   "source": [
    "X_train = X_train / 255.0"
   ]
  },
  {
   "cell_type": "code",
   "execution_count": 93,
   "metadata": {},
   "outputs": [
    {
     "name": "stdout",
     "output_type": "stream",
     "text": [
      "3-conv-64-nodes-2-dense-1599061204\n",
      "Epoch 1/10\n",
      "  2/147 [..............................] - ETA: 2:21 - loss: 0.6606 - accuracy: 0.7031WARNING:tensorflow:Method (on_train_batch_end) is slow compared to the batch update (0.843956). Check your callbacks.\n",
      "147/147 [==============================] - 40s 269ms/step - loss: 0.3948 - accuracy: 0.8334 - val_loss: 0.1649 - val_accuracy: 0.9387\n",
      "Epoch 2/10\n",
      "147/147 [==============================] - 39s 262ms/step - loss: 0.1543 - accuracy: 0.9440 - val_loss: 0.0845 - val_accuracy: 0.9655\n",
      "Epoch 3/10\n",
      "147/147 [==============================] - 38s 261ms/step - loss: 0.1240 - accuracy: 0.9540 - val_loss: 0.0694 - val_accuracy: 0.9789\n",
      "Epoch 4/10\n",
      "147/147 [==============================] - 37s 251ms/step - loss: 0.0921 - accuracy: 0.9661 - val_loss: 0.0680 - val_accuracy: 0.9808\n",
      "Epoch 5/10\n",
      "147/147 [==============================] - 37s 252ms/step - loss: 0.0910 - accuracy: 0.9661 - val_loss: 0.0589 - val_accuracy: 0.9808\n",
      "Epoch 6/10\n",
      "147/147 [==============================] - 36s 248ms/step - loss: 0.0759 - accuracy: 0.9727 - val_loss: 0.0748 - val_accuracy: 0.9751\n",
      "Epoch 7/10\n",
      "147/147 [==============================] - 36s 248ms/step - loss: 0.0724 - accuracy: 0.9746 - val_loss: 0.0882 - val_accuracy: 0.9713\n",
      "Epoch 8/10\n",
      "147/147 [==============================] - 37s 251ms/step - loss: 0.0619 - accuracy: 0.9798 - val_loss: 0.0529 - val_accuracy: 0.9847\n",
      "Epoch 9/10\n",
      "147/147 [==============================] - 37s 250ms/step - loss: 0.0521 - accuracy: 0.9808 - val_loss: 0.0518 - val_accuracy: 0.9828\n",
      "Epoch 10/10\n",
      "147/147 [==============================] - 37s 252ms/step - loss: 0.0558 - accuracy: 0.9813 - val_loss: 0.0741 - val_accuracy: 0.9713\n",
      "INFO:tensorflow:Assets written to: 3-conv-64-nodes-2-dense-1599061584.model\\assets\n"
     ]
    }
   ],
   "source": [
    "conv_layers = [3]\n",
    "layer_units = [64]\n",
    "dense_layers = [2]\n",
    "\n",
    "model = Sequential()\n",
    "\n",
    "for dense_layer in dense_layers:\n",
    "    for layer_unit in layer_units:\n",
    "        for conv_layer in conv_layers:\n",
    "            NAME = \"{}-conv-{}-nodes-{}-dense-{}\".format(conv_layer, layer_unit, dense_layer, int(time.time()))\n",
    "            tensorboard = TensorBoard(log_dir=\"loggs/{}\".format(NAME))\n",
    "            print(NAME)\n",
    "            \n",
    "            model = Sequential()\n",
    "            \n",
    "            model.add(Conv2D(layer_unit, (3, 3), input_shape=X_train.shape[1:]))\n",
    "            model.add(Activation('relu'))\n",
    "            model.add(MaxPooling2D(pool_size=(2, 2)))\n",
    "            \n",
    "            for l in range(conv_layer - 1):\n",
    "                model.add(Conv2D(layer_unit, (3, 3)))\n",
    "                model.add(Activation('relu'))\n",
    "                model.add(MaxPooling2D(pool_size=(2, 2)))\n",
    "                          \n",
    "            model.add(Flatten())\n",
    "                          \n",
    "            for l in range(dense_layer):\n",
    "                model.add(Dense(layer_unit))\n",
    "                model.add(Activation('relu'))\n",
    "                model.add(Dropout(0.2))\n",
    "                          \n",
    "            model.add(Dense(1))\n",
    "            model.add(Activation('sigmoid'))\n",
    "            \n",
    "            model.compile(optimizer=tf.keras.optimizers.Adam(), loss=\"binary_crossentropy\", metrics=['accuracy'])\n",
    "                          \n",
    "            model.fit(X_train, Y_train, batch_size=32, epochs=10, validation_split=0.1, callbacks=[tensorboard])\n",
    "\n",
    "            model.save(\"{}-conv-{}-nodes-{}-dense-{}.model\".format(conv_layer, layer_unit, dense_layer, int(time.time())))"
   ]
  },
  {
   "cell_type": "code",
   "execution_count": 71,
   "metadata": {},
   "outputs": [
    {
     "name": "stdout",
     "output_type": "stream",
     "text": [
      "(80, 80, 3)\n"
     ]
    }
   ],
   "source": [
    "print(X_train[0].shape)"
   ]
  },
  {
   "cell_type": "code",
   "execution_count": 88,
   "metadata": {},
   "outputs": [
    {
     "name": "stdout",
     "output_type": "stream",
     "text": [
      "5216\n"
     ]
    }
   ],
   "source": [
    "print(len(training_data))"
   ]
  },
  {
   "cell_type": "code",
   "execution_count": null,
   "metadata": {},
   "outputs": [],
   "source": []
  }
 ],
 "metadata": {
  "kernelspec": {
   "display_name": "Python 3",
   "language": "python",
   "name": "python3"
  },
  "language_info": {
   "codemirror_mode": {
    "name": "ipython",
    "version": 3
   },
   "file_extension": ".py",
   "mimetype": "text/x-python",
   "name": "python",
   "nbconvert_exporter": "python",
   "pygments_lexer": "ipython3",
   "version": "3.7.7"
  },
  "toc": {
   "base_numbering": 1,
   "nav_menu": {},
   "number_sections": true,
   "sideBar": true,
   "skip_h1_title": false,
   "title_cell": "Table of Contents",
   "title_sidebar": "Contents",
   "toc_cell": false,
   "toc_position": {},
   "toc_section_display": true,
   "toc_window_display": false
  },
  "varInspector": {
   "cols": {
    "lenName": 16,
    "lenType": 16,
    "lenVar": 40
   },
   "kernels_config": {
    "python": {
     "delete_cmd_postfix": "",
     "delete_cmd_prefix": "del ",
     "library": "var_list.py",
     "varRefreshCmd": "print(var_dic_list())"
    },
    "r": {
     "delete_cmd_postfix": ") ",
     "delete_cmd_prefix": "rm(",
     "library": "var_list.r",
     "varRefreshCmd": "cat(var_dic_list()) "
    }
   },
   "types_to_exclude": [
    "module",
    "function",
    "builtin_function_or_method",
    "instance",
    "_Feature"
   ],
   "window_display": false
  }
 },
 "nbformat": 4,
 "nbformat_minor": 4
}
